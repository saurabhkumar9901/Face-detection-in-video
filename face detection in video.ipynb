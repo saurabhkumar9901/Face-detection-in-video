{
 "cells": [
  {
   "cell_type": "code",
   "execution_count": 1,
   "metadata": {},
   "outputs": [],
   "source": [
    "import cv2"
   ]
  },
  {
   "cell_type": "code",
   "execution_count": 26,
   "metadata": {},
   "outputs": [
    {
     "name": "stdout",
     "output_type": "stream",
     "text": [
      "Stream stopped.\n"
     ]
    }
   ],
   "source": [
    "face_classifier = cv2.CascadeClassifier('D:/OPENCV/project face detection videos/haarcascades/Haarcascades/haarcascade_frontalface_default.xml')\n",
    "\n",
    "cap = cv2.VideoCapture('D:/OPENCV/RESOURCES/Modern Computer Vision/OpenCV/Working with Video/videos/drummer.mp4')\n",
    "\n",
    "w = int(cap.get(3))\n",
    "h = int(cap.get(4))\n",
    "\n",
    "out = cv2.VideoWriter('drummer.avi', cv2.VideoWriter_fourcc(*'MP4V'), 30, (w, h), False)\n",
    "\n",
    "\n",
    "while cap.isOpened():\n",
    "\n",
    "    \n",
    "    ret, frame = cap.read()\n",
    "    \n",
    "    if not ret:\n",
    "        print(\"Stream stopped.\")\n",
    "        break\n",
    "\n",
    "    if ret==True:\n",
    "\n",
    "     gray = cv2.cvtColor(frame, cv2.COLOR_BGR2GRAY)\n",
    "\n",
    "     faces = face_classifier.detectMultiScale(gray, scaleFactor = 1.1 , minNeighbors = 4 )\n",
    "\n",
    "     for (x,y,w,h) in faces:  \n",
    "      cv2.rectangle(gray, (x,y), (x+w,y+h), (127,0,255), 2)\n",
    "     \n",
    "     out.write(gray)\n",
    "\n",
    "cap.release()\n",
    "out.release()\n",
    "cv2.destroyAllWindows()\n"
   ]
  },
  {
   "cell_type": "code",
   "execution_count": null,
   "metadata": {},
   "outputs": [],
   "source": []
  }
 ],
 "metadata": {
  "kernelspec": {
   "display_name": "Python 3.8.0 64-bit",
   "language": "python",
   "name": "python3"
  },
  "language_info": {
   "codemirror_mode": {
    "name": "ipython",
    "version": 3
   },
   "file_extension": ".py",
   "mimetype": "text/x-python",
   "name": "python",
   "nbconvert_exporter": "python",
   "pygments_lexer": "ipython3",
   "version": "3.8.0"
  },
  "orig_nbformat": 4,
  "vscode": {
   "interpreter": {
    "hash": "a8e92733384c026088ca16613e8f0a39b29207973da21d30aea1e8267813e7c4"
   }
  }
 },
 "nbformat": 4,
 "nbformat_minor": 2
}
